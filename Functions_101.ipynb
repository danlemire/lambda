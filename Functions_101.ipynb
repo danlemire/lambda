{
  "nbformat": 4,
  "nbformat_minor": 0,
  "metadata": {
    "colab": {
      "provenance": [],
      "toc_visible": true,
      "authorship_tag": "ABX9TyNMWiv40jk307EHYlBEgA0A",
      "include_colab_link": true
    },
    "kernelspec": {
      "name": "python3",
      "display_name": "Python 3"
    },
    "language_info": {
      "name": "python"
    }
  },
  "cells": [
    {
      "cell_type": "markdown",
      "metadata": {
        "id": "view-in-github",
        "colab_type": "text"
      },
      "source": [
        "<a href=\"https://colab.research.google.com/github/danlemire/lambda/blob/master/Functions_101.ipynb\" target=\"_parent\"><img src=\"https://colab.research.google.com/assets/colab-badge.svg\" alt=\"Open In Colab\"/></a>"
      ]
    },
    {
      "cell_type": "markdown",
      "source": [
        "## Python Functions Hello\n"
      ],
      "metadata": {
        "id": "V_slYQfGmfOL"
      }
    },
    {
      "cell_type": "code",
      "source": [
        "def hello():pass"
      ],
      "metadata": {
        "id": "3mtZnkJymmf_"
      },
      "execution_count": 5,
      "outputs": []
    },
    {
      "cell_type": "markdown",
      "source": [
        "Pro: it'sa function, con, it does nothign"
      ],
      "metadata": {
        "id": "iQ4TfbT7mqXC"
      }
    },
    {
      "cell_type": "code",
      "source": [
        "def hello2():\n",
        "  print(\"hi\")\n"
      ],
      "metadata": {
        "id": "IjbYV31JmpC8"
      },
      "execution_count": 6,
      "outputs": []
    },
    {
      "cell_type": "markdown",
      "source": [
        "more complicated...."
      ],
      "metadata": {
        "id": "uPJGlBsym0GN"
      }
    },
    {
      "cell_type": "code",
      "source": [
        "hello()"
      ],
      "metadata": {
        "id": "CcPrDD_Vm0T3"
      },
      "execution_count": 7,
      "outputs": []
    },
    {
      "cell_type": "code",
      "source": [
        "hello2()\n"
      ],
      "metadata": {
        "colab": {
          "base_uri": "https://localhost:8080/"
        },
        "id": "gUJ4Y7UJm4CA",
        "outputId": "d92840f0-e64e-47c5-d863-e51008f7b838"
      },
      "execution_count": 8,
      "outputs": [
        {
          "output_type": "stream",
          "name": "stdout",
          "text": [
            "hi\n"
          ]
        }
      ]
    },
    {
      "cell_type": "markdown",
      "source": [
        "increasing complication\n"
      ],
      "metadata": {
        "id": "PN1IHp1Um4gC"
      }
    },
    {
      "cell_type": "code",
      "source": [
        "def hello3():\n",
        "  return \"Hi\""
      ],
      "metadata": {
        "id": "TrHuT1S8nDxU"
      },
      "execution_count": 9,
      "outputs": []
    },
    {
      "cell_type": "code",
      "source": [
        "hello3()"
      ],
      "metadata": {
        "colab": {
          "base_uri": "https://localhost:8080/",
          "height": 35
        },
        "id": "F7XQCiYKnIdx",
        "outputId": "8b5d711e-c9a9-489b-d5bc-69e43afc14a9"
      },
      "execution_count": 10,
      "outputs": [
        {
          "output_type": "execute_result",
          "data": {
            "text/plain": [
              "'Hi'"
            ],
            "application/vnd.google.colaboratory.intrinsic+json": {
              "type": "string"
            }
          },
          "metadata": {},
          "execution_count": 10
        }
      ]
    },
    {
      "cell_type": "markdown",
      "source": [
        "now go back to the older"
      ],
      "metadata": {
        "id": "wbViulGdnL51"
      }
    },
    {
      "cell_type": "code",
      "source": [
        "return_value_hello2 = hello2()\n",
        "return_value_hello3 = hello3()"
      ],
      "metadata": {
        "colab": {
          "base_uri": "https://localhost:8080/"
        },
        "id": "YeCSIozVnOFP",
        "outputId": "dc9ca8d8-d505-4187-a7c8-dd63f690c728"
      },
      "execution_count": 11,
      "outputs": [
        {
          "output_type": "stream",
          "name": "stdout",
          "text": [
            "hi\n"
          ]
        }
      ]
    },
    {
      "cell_type": "code",
      "source": [
        "return_value_hello2"
      ],
      "metadata": {
        "id": "dUIF6WoGnTKB"
      },
      "execution_count": 12,
      "outputs": []
    },
    {
      "cell_type": "markdown",
      "source": [
        "the default return value is nothing.\n",
        "\n",
        "You can have a function that does something inside, or one that returns back something.\n",
        "\n",
        "Do work and return back.... the return of a value is generally the way to go. This avoids a \"side affect\" to the function.\n",
        "\n",
        "\n"
      ],
      "metadata": {
        "id": "OoI4sxntnWJK"
      }
    },
    {
      "cell_type": "code",
      "source": [
        "def hello4(name):\n",
        "  return f\"Hi {name}\""
      ],
      "metadata": {
        "id": "Oo7Q98WFnkCJ"
      },
      "execution_count": 13,
      "outputs": []
    },
    {
      "cell_type": "code",
      "source": [
        "return_value_hello4 = hello4(\"John\")"
      ],
      "metadata": {
        "id": "BTrryPd4nrHO"
      },
      "execution_count": 14,
      "outputs": []
    },
    {
      "cell_type": "code",
      "source": [
        "return_value_hello4"
      ],
      "metadata": {
        "colab": {
          "base_uri": "https://localhost:8080/",
          "height": 35
        },
        "id": "2C2EzB8YnrNy",
        "outputId": "031350eb-e7ef-4736-8ba1-6f1877a29768"
      },
      "execution_count": 15,
      "outputs": [
        {
          "output_type": "execute_result",
          "data": {
            "text/plain": [
              "'Hi John'"
            ],
            "application/vnd.google.colaboratory.intrinsic+json": {
              "type": "string"
            }
          },
          "metadata": {},
          "execution_count": 15
        }
      ]
    },
    {
      "cell_type": "markdown",
      "source": [
        "Do some work and then return the results of that work so you can do another thing."
      ],
      "metadata": {
        "id": "pXOToZpmn01i"
      }
    }
  ]
}